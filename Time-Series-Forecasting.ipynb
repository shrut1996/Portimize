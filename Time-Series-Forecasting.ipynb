{
 "cells": [
  {
   "cell_type": "code",
   "execution_count": 1,
   "metadata": {
    "scrolled": false
   },
   "outputs": [
    {
     "name": "stderr",
     "output_type": "stream",
     "text": [
      "Using TensorFlow backend.\n"
     ]
    }
   ],
   "source": [
    "import numpy as np\n",
    "import math\n",
    "import h5py\n",
    "import matplotlib.pyplot as plt\n",
    "import pandas as pd\n",
    "import pandas_datareader.data as web\n",
    "from datetime import datetime, timedelta\n",
    "from sklearn.preprocessing import MinMaxScaler\n",
    "from sklearn.metrics import mean_squared_error\n",
    "from keras.models import Sequential, load_model\n",
    "from keras.layers import Dense, LSTM"
   ]
  },
  {
   "cell_type": "code",
   "execution_count": 2,
   "metadata": {},
   "outputs": [
    {
     "name": "stdout",
     "output_type": "stream",
     "text": [
      "(1380, 6)\n"
     ]
    },
    {
     "name": "stderr",
     "output_type": "stream",
     "text": [
      "/usr/local/lib/python2.7/dist-packages/sklearn/preprocessing/data.py:321: DeprecationWarning: Passing 1d arrays as data is deprecated in 0.17 and will raise ValueError in 0.19. Reshape your data either using X.reshape(-1, 1) if your data has a single feature or X.reshape(1, -1) if it contains a single sample.\n",
      "  warnings.warn(DEPRECATION_MSG_1D, DeprecationWarning)\n",
      "/usr/local/lib/python2.7/dist-packages/sklearn/preprocessing/data.py:356: DeprecationWarning: Passing 1d arrays as data is deprecated in 0.17 and will raise ValueError in 0.19. Reshape your data either using X.reshape(-1, 1) if your data has a single feature or X.reshape(1, -1) if it contains a single sample.\n",
      "  warnings.warn(DEPRECATION_MSG_1D, DeprecationWarning)\n"
     ]
    }
   ],
   "source": [
    "# Importing the dataset\n",
    "stock = 'GOOGLE'\n",
    "symbol = 'GOOGL'\n",
    "start_date = datetime.today()+timedelta(days=-2000)\n",
    "end_date = datetime.today()\n",
    "prices = web.DataReader(symbol, 'yahoo', start_date, end_date)\n",
    "print prices.shape\n",
    "\n",
    "# Averaging the Open, High, Low, Close Prices for each day\n",
    "prices = prices.iloc[:,:4].values.mean(axis=1)\n",
    "\n",
    "# Normalizing the average price\n",
    "sc = MinMaxScaler()\n",
    "prices = sc.fit_transform(prices)\n"
   ]
  },
  {
   "cell_type": "code",
   "execution_count": 3,
   "metadata": {},
   "outputs": [],
   "source": [
    "\n",
    "def structure_time_series(prices, history_size, forecast_size):\n",
    "    '''\n",
    "    Converts the time series into a structured format for training purposes\n",
    "    Days(t-history_size, t-1) will be the input variables\n",
    "    Days(t, t+forecast_size) will be the target variables\n",
    "    '''\n",
    "    \n",
    "    df = pd.DataFrame(prices)\n",
    "    features, names = [], []\n",
    "\n",
    "    for i in range(history_size, 0, -1):\n",
    "        features.append(df.shift(i))\n",
    "        names += [('day t-%d' % (i))]\n",
    "\n",
    "    for i in range(0, forecast_size):\n",
    "        features.append(df.shift(-i))\n",
    "        names += [('day t+%d' % (i))]\n",
    "        \n",
    "\n",
    "    data = pd.concat(features, axis=1)\n",
    "    data.columns = names\n",
    "    \n",
    "    # Slicing the dataframe to avoid null values\n",
    "    return data[history_size:-forecast_size+1]\n"
   ]
  },
  {
   "cell_type": "code",
   "execution_count": 4,
   "metadata": {},
   "outputs": [],
   "source": [
    "\n",
    "def train_test_split(prices, split, history_size, forecast_size):\n",
    "    values = prices.values\n",
    "    n_train_hours = int(prices.shape[0] * split)\n",
    "    train = values[:n_train_hours, :]\n",
    "    test = values[n_train_hours:, :]\n",
    "    \n",
    "    # split into input and outputs\n",
    "    X_train, y_train = train[:, :history_size], train[:, -forecast_size-1:-1]\n",
    "    X_test, y_test = test[:, :history_size], test[:, -forecast_size-1:-1]\n",
    "    \n",
    "    # reshape input to be 3D [samples, timesteps, features]\n",
    "    X_train = X_train.reshape((X_train.shape[0], 1, X_train.shape[1]))\n",
    "    X_test = X_test.reshape((X_test.shape[0], 1, X_test.shape[1]))\n",
    "    y_train = y_train.reshape((y_train.shape[0], y_train.shape[1]))\n",
    "    y_test = y_test.reshape((y_test.shape[0], y_test.shape[1]))\n",
    "\n",
    "    return X_train, y_train, X_test, y_test"
   ]
  },
  {
   "cell_type": "code",
   "execution_count": 5,
   "metadata": {
    "collapsed": true
   },
   "outputs": [],
   "source": [
    "def build_and_train_model(X_train, y_train):\n",
    "    model = Sequential()\n",
    "    model.add(LSTM(64, input_shape=(X_train.shape[1], X_train.shape[2])))\n",
    "    model.add(Dense(y_train.shape[1]))\n",
    "    model.compile(loss='mse', optimizer='adam')\n",
    "\n",
    "    model.fit(X_train, y_train, epochs=50, batch_size=32, validation_split=0.1)\n",
    "\n",
    "    return model"
   ]
  },
  {
   "cell_type": "code",
   "execution_count": null,
   "metadata": {
    "scrolled": true
   },
   "outputs": [
    {
     "name": "stdout",
     "output_type": "stream",
     "text": [
      "((1214, 1, 30), (1214, 2), (135, 1, 30), (135, 2))\n"
     ]
    }
   ],
   "source": [
    "history_size = 30\n",
    "\n",
    "##### 2-Day Forecast #####\n",
    "\n",
    "data = structure_time_series(prices, history_size, 2)\n",
    "X_train, y_train, X_test, y_test = train_test_split(data, 0.9, history_size, 2)\n",
    "print(X_train.shape, y_train.shape, X_test.shape, y_test.shape)\n"
   ]
  },
  {
   "cell_type": "code",
   "execution_count": null,
   "metadata": {},
   "outputs": [],
   "source": [
    "model1 = build_and_train_model(X_train, y_train)\n",
    "\n",
    "pred = model1.predict(X_test)\n",
    "rmse = math.sqrt(mean_squared_error(y_test, pred))\n",
    "print('Test RMSE: %.3f' % rmse)\n",
    "\n",
    "model1.save('2DayForecast.h5')"
   ]
  },
  {
   "cell_type": "code",
   "execution_count": null,
   "metadata": {},
   "outputs": [],
   "source": [
    "##### 5-Day Forecast #####\n",
    "\n",
    "data = structure_time_series(prices, history_size, 5)\n",
    "X_train, y_train, X_test, y_test = train_test_split(data, 0.9, history_size, 5)\n",
    "print(X_train.shape, y_train.shape, X_test.shape, y_test.shape)\n",
    "\n"
   ]
  },
  {
   "cell_type": "code",
   "execution_count": null,
   "metadata": {},
   "outputs": [],
   "source": [
    "model2 = build_and_train_model(X_train, y_train)\n",
    "\n",
    "pred = model2.predict(X_test)\n",
    "rmse = math.sqrt(mean_squared_error(y_test, pred))\n",
    "print('Test RMSE: %.3f' % rmse)\n",
    "\n",
    "model2.save('5DayForecast.h5')"
   ]
  },
  {
   "cell_type": "code",
   "execution_count": null,
   "metadata": {},
   "outputs": [],
   "source": [
    "##### 10-Day Forecast #####\n",
    "\n",
    "data = structure_time_series(prices, history_size, 10)\n",
    "X_train, y_train, X_test, y_test = train_test_split(data, 0.9, history_size, 10)\n",
    "print(X_train.shape, y_train.shape, X_test.shape, y_test.shape)\n",
    "\n"
   ]
  },
  {
   "cell_type": "code",
   "execution_count": null,
   "metadata": {},
   "outputs": [],
   "source": [
    "model3 = build_and_train_model(X_train, y_train)\n",
    "\n",
    "pred = model3.predict(X_test)\n",
    "rmse = math.sqrt(mean_squared_error(y_test, pred))\n",
    "print('Test RMSE: %.3f' % rmse)\n",
    "\n",
    "model3.save('10DayForecast.h5')"
   ]
  }
 ],
 "metadata": {
  "kernelspec": {
   "display_name": "Python 2",
   "language": "python",
   "name": "python2"
  },
  "language_info": {
   "codemirror_mode": {
    "name": "ipython",
    "version": 2
   },
   "file_extension": ".py",
   "mimetype": "text/x-python",
   "name": "python",
   "nbconvert_exporter": "python",
   "pygments_lexer": "ipython2",
   "version": "2.7.12"
  }
 },
 "nbformat": 4,
 "nbformat_minor": 2
}
