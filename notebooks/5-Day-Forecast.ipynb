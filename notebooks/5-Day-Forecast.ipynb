{
 "cells": [
  {
   "cell_type": "code",
   "execution_count": 1,
   "metadata": {
    "scrolled": false
   },
   "outputs": [
    {
     "name": "stderr",
     "output_type": "stream",
     "text": [
      "Using TensorFlow backend.\n"
     ]
    }
   ],
   "source": [
    "import numpy as np\n",
    "import math\n",
    "import h5py\n",
    "import matplotlib.pyplot as plt\n",
    "import pandas as pd\n",
    "import pandas_datareader.data as web\n",
    "from datetime import datetime, timedelta\n",
    "from pandas.tseries.holiday import *\n",
    "from sklearn.preprocessing import MinMaxScaler\n",
    "from sklearn.metrics import mean_squared_error\n",
    "from keras.models import Sequential\n",
    "from keras.layers import Dense\n",
    "from keras.layers import LSTM\n",
    "from keras.models import load_model"
   ]
  },
  {
   "cell_type": "code",
   "execution_count": 2,
   "metadata": {},
   "outputs": [
    {
     "name": "stdout",
     "output_type": "stream",
     "text": [
      "(1380, 6)\n"
     ]
    }
   ],
   "source": [
    "# Importing the training set\n",
    "stock = 'Apple'\n",
    "symbol = 'AAPL'\n",
    "forecast = 5\n",
    "start_date = datetime.today()+timedelta(days=-2000)\n",
    "end_date = datetime.today()\n",
    "training_set = web.DataReader(symbol, 'yahoo', start_date, end_date)\n",
    "print training_set.shape\n"
   ]
  },
  {
   "cell_type": "code",
   "execution_count": 3,
   "metadata": {},
   "outputs": [
    {
     "name": "stdout",
     "output_type": "stream",
     "text": [
      "[[ 0.13977545]\n",
      " [ 0.13272116]\n",
      " [ 0.13606629]\n",
      " ..., \n",
      " [ 0.94047706]\n",
      " [ 0.94057414]\n",
      " [ 0.93984617]]\n"
     ]
    }
   ],
   "source": [
    "# Average of the Open, High and Low Prices is the input to our RNN.\n",
    "# We also convert the Vector form of a single column into a two column matrix-form\n",
    "training_set = training_set.iloc[:,1:4].values.mean(axis=1)\n",
    "training_set = np.reshape(training_set, (-1, 1))\n",
    "\n",
    "# To use Normalisation for the feature Scaling function.\n",
    "# Default range for MinMaxScaler is 0 to 1, which is what we want. So no arguments in it.\n",
    "sc = MinMaxScaler()\n",
    "training_set = sc.fit_transform(training_set)\n",
    "print training_set\n",
    "\n",
    "# Getting the inputs and the ouputs\n",
    "# Restricting the input and output based on how LSTM functions.\n",
    "X_train = training_set[0:training_set.shape[0]-2*forecast]\n",
    "y_train = training_set[2*forecast:training_set.shape[0]]\n",
    "\n",
    "# Reshaping - Adding time interval as a dimension for input.\n",
    "X_train = np.reshape(X_train, (training_set.shape[0]-2*forecast, 1, 1))\n"
   ]
  },
  {
   "cell_type": "code",
   "execution_count": 4,
   "metadata": {},
   "outputs": [
    {
     "name": "stdout",
     "output_type": "stream",
     "text": [
      "Epoch 1/100\n",
      "1370/1370 [==============================] - 0s 142us/step - loss: 0.1649\n",
      "Epoch 2/100\n",
      "1370/1370 [==============================] - 0s 21us/step - loss: 0.1472\n",
      "Epoch 3/100\n",
      "1370/1370 [==============================] - 0s 18us/step - loss: 0.1339\n",
      "Epoch 4/100\n",
      "1370/1370 [==============================] - 0s 22us/step - loss: 0.1219\n",
      "Epoch 5/100\n",
      "1370/1370 [==============================] - 0s 19us/step - loss: 0.1107\n",
      "Epoch 6/100\n",
      "1370/1370 [==============================] - 0s 18us/step - loss: 0.1003\n",
      "Epoch 7/100\n",
      "1370/1370 [==============================] - 0s 19us/step - loss: 0.0906\n",
      "Epoch 8/100\n",
      "1370/1370 [==============================] - 0s 18us/step - loss: 0.0816\n",
      "Epoch 9/100\n",
      "1370/1370 [==============================] - 0s 22us/step - loss: 0.0733\n",
      "Epoch 10/100\n",
      "1370/1370 [==============================] - 0s 20us/step - loss: 0.0658\n",
      "Epoch 11/100\n",
      "1370/1370 [==============================] - 0s 19us/step - loss: 0.0590\n",
      "Epoch 12/100\n",
      "1370/1370 [==============================] - 0s 24us/step - loss: 0.0529\n",
      "Epoch 13/100\n",
      "1370/1370 [==============================] - 0s 26us/step - loss: 0.0477\n",
      "Epoch 14/100\n",
      "1370/1370 [==============================] - 0s 24us/step - loss: 0.0432\n",
      "Epoch 15/100\n",
      "1370/1370 [==============================] - 0s 22us/step - loss: 0.0397\n",
      "Epoch 16/100\n",
      "1370/1370 [==============================] - 0s 26us/step - loss: 0.0369\n",
      "Epoch 17/100\n",
      "1370/1370 [==============================] - 0s 21us/step - loss: 0.0349\n",
      "Epoch 18/100\n",
      "1370/1370 [==============================] - 0s 22us/step - loss: 0.0332\n",
      "Epoch 19/100\n",
      "1370/1370 [==============================] - 0s 20us/step - loss: 0.0318\n",
      "Epoch 20/100\n",
      "1370/1370 [==============================] - 0s 25us/step - loss: 0.0305\n",
      "Epoch 21/100\n",
      "1370/1370 [==============================] - 0s 28us/step - loss: 0.0291\n",
      "Epoch 22/100\n",
      "1370/1370 [==============================] - 0s 20us/step - loss: 0.0278\n",
      "Epoch 23/100\n",
      "1370/1370 [==============================] - 0s 19us/step - loss: 0.0264\n",
      "Epoch 24/100\n",
      "1370/1370 [==============================] - 0s 22us/step - loss: 0.0250\n",
      "Epoch 25/100\n",
      "1370/1370 [==============================] - 0s 21us/step - loss: 0.0236\n",
      "Epoch 26/100\n",
      "1370/1370 [==============================] - 0s 20us/step - loss: 0.0222\n",
      "Epoch 27/100\n",
      "1370/1370 [==============================] - 0s 19us/step - loss: 0.0208\n",
      "Epoch 28/100\n",
      "1370/1370 [==============================] - 0s 21us/step - loss: 0.0194\n",
      "Epoch 29/100\n",
      "1370/1370 [==============================] - 0s 25us/step - loss: 0.0181\n",
      "Epoch 30/100\n",
      "1370/1370 [==============================] - 0s 22us/step - loss: 0.0167\n",
      "Epoch 31/100\n",
      "1370/1370 [==============================] - 0s 22us/step - loss: 0.0154\n",
      "Epoch 32/100\n",
      "1370/1370 [==============================] - 0s 28us/step - loss: 0.0141\n",
      "Epoch 33/100\n",
      "1370/1370 [==============================] - 0s 25us/step - loss: 0.0128\n",
      "Epoch 34/100\n",
      "1370/1370 [==============================] - 0s 27us/step - loss: 0.0116\n",
      "Epoch 35/100\n",
      "1370/1370 [==============================] - 0s 25us/step - loss: 0.0105\n",
      "Epoch 36/100\n",
      "1370/1370 [==============================] - 0s 26us/step - loss: 0.0093\n",
      "Epoch 37/100\n",
      "1370/1370 [==============================] - 0s 26us/step - loss: 0.0083\n",
      "Epoch 38/100\n",
      "1370/1370 [==============================] - 0s 29us/step - loss: 0.0073\n",
      "Epoch 39/100\n",
      "1370/1370 [==============================] - 0s 25us/step - loss: 0.0063\n",
      "Epoch 40/100\n",
      "1370/1370 [==============================] - 0s 22us/step - loss: 0.0055\n",
      "Epoch 41/100\n",
      "1370/1370 [==============================] - 0s 21us/step - loss: 0.0047\n",
      "Epoch 42/100\n",
      "1370/1370 [==============================] - 0s 24us/step - loss: 0.0040\n",
      "Epoch 43/100\n",
      "1370/1370 [==============================] - 0s 22us/step - loss: 0.0034\n",
      "Epoch 44/100\n",
      "1370/1370 [==============================] - 0s 21us/step - loss: 0.0028\n",
      "Epoch 45/100\n",
      "1370/1370 [==============================] - 0s 22us/step - loss: 0.0024\n",
      "Epoch 46/100\n",
      "1370/1370 [==============================] - 0s 24us/step - loss: 0.0021\n",
      "Epoch 47/100\n",
      "1370/1370 [==============================] - 0s 24us/step - loss: 0.0019\n",
      "Epoch 48/100\n",
      "1370/1370 [==============================] - 0s 24us/step - loss: 0.0017\n",
      "Epoch 49/100\n",
      "1370/1370 [==============================] - 0s 25us/step - loss: 0.0016\n",
      "Epoch 50/100\n",
      "1370/1370 [==============================] - 0s 21us/step - loss: 0.0016\n",
      "Epoch 51/100\n",
      "1370/1370 [==============================] - 0s 29us/step - loss: 0.0016\n",
      "Epoch 52/100\n",
      "1370/1370 [==============================] - 0s 24us/step - loss: 0.0015\n",
      "Epoch 53/100\n",
      "1370/1370 [==============================] - 0s 21us/step - loss: 0.0015\n",
      "Epoch 54/100\n",
      "1370/1370 [==============================] - 0s 21us/step - loss: 0.0016\n",
      "Epoch 55/100\n",
      "1370/1370 [==============================] - 0s 16us/step - loss: 0.0015\n",
      "Epoch 56/100\n",
      "1370/1370 [==============================] - 0s 17us/step - loss: 0.0015\n",
      "Epoch 57/100\n",
      "1370/1370 [==============================] - 0s 19us/step - loss: 0.0015\n",
      "Epoch 58/100\n",
      "1370/1370 [==============================] - 0s 17us/step - loss: 0.0015\n",
      "Epoch 59/100\n",
      "1370/1370 [==============================] - 0s 16us/step - loss: 0.0015\n",
      "Epoch 60/100\n",
      "1370/1370 [==============================] - 0s 17us/step - loss: 0.0016\n",
      "Epoch 61/100\n",
      "1370/1370 [==============================] - 0s 17us/step - loss: 0.0015\n",
      "Epoch 62/100\n",
      "1370/1370 [==============================] - 0s 17us/step - loss: 0.0015\n",
      "Epoch 63/100\n",
      "1370/1370 [==============================] - 0s 19us/step - loss: 0.0015\n",
      "Epoch 64/100\n",
      "1370/1370 [==============================] - 0s 19us/step - loss: 0.0015\n",
      "Epoch 65/100\n",
      "1370/1370 [==============================] - 0s 20us/step - loss: 0.0015\n",
      "Epoch 66/100\n",
      "1370/1370 [==============================] - 0s 18us/step - loss: 0.0015\n",
      "Epoch 67/100\n",
      "1370/1370 [==============================] - 0s 21us/step - loss: 0.0015\n",
      "Epoch 68/100\n",
      "1370/1370 [==============================] - 0s 21us/step - loss: 0.0015\n",
      "Epoch 69/100\n",
      "1370/1370 [==============================] - 0s 18us/step - loss: 0.0015\n",
      "Epoch 70/100\n",
      "1370/1370 [==============================] - 0s 22us/step - loss: 0.0015\n",
      "Epoch 71/100\n",
      "1370/1370 [==============================] - 0s 21us/step - loss: 0.0015\n",
      "Epoch 72/100\n",
      "1370/1370 [==============================] - 0s 19us/step - loss: 0.0015\n",
      "Epoch 73/100\n",
      "1370/1370 [==============================] - 0s 16us/step - loss: 0.0015\n",
      "Epoch 74/100\n",
      "1370/1370 [==============================] - 0s 18us/step - loss: 0.0015\n",
      "Epoch 75/100\n",
      "1370/1370 [==============================] - 0s 21us/step - loss: 0.0015\n",
      "Epoch 76/100\n",
      "1370/1370 [==============================] - 0s 21us/step - loss: 0.0015\n",
      "Epoch 77/100\n",
      "1370/1370 [==============================] - 0s 18us/step - loss: 0.0015\n",
      "Epoch 78/100\n",
      "1370/1370 [==============================] - 0s 19us/step - loss: 0.0015\n",
      "Epoch 79/100\n",
      "1370/1370 [==============================] - 0s 20us/step - loss: 0.0015\n",
      "Epoch 80/100\n",
      "1370/1370 [==============================] - 0s 17us/step - loss: 0.0015\n",
      "Epoch 81/100\n",
      "1370/1370 [==============================] - 0s 18us/step - loss: 0.0015\n",
      "Epoch 82/100\n",
      "1370/1370 [==============================] - 0s 18us/step - loss: 0.0015\n",
      "Epoch 83/100\n",
      "1370/1370 [==============================] - 0s 19us/step - loss: 0.0015\n",
      "Epoch 84/100\n",
      "1370/1370 [==============================] - 0s 18us/step - loss: 0.0015\n",
      "Epoch 85/100\n",
      "1370/1370 [==============================] - 0s 20us/step - loss: 0.0015\n",
      "Epoch 86/100\n",
      "1370/1370 [==============================] - 0s 16us/step - loss: 0.0015\n",
      "Epoch 87/100\n",
      "1370/1370 [==============================] - 0s 16us/step - loss: 0.0015\n",
      "Epoch 88/100\n",
      "1370/1370 [==============================] - 0s 23us/step - loss: 0.0015\n",
      "Epoch 89/100\n",
      "1370/1370 [==============================] - 0s 19us/step - loss: 0.0015\n",
      "Epoch 90/100\n",
      "1370/1370 [==============================] - 0s 18us/step - loss: 0.0015\n",
      "Epoch 91/100\n",
      "1370/1370 [==============================] - 0s 18us/step - loss: 0.0015\n",
      "Epoch 92/100\n",
      "1370/1370 [==============================] - 0s 15us/step - loss: 0.0015\n",
      "Epoch 93/100\n",
      "1370/1370 [==============================] - 0s 17us/step - loss: 0.0015\n",
      "Epoch 94/100\n",
      "1370/1370 [==============================] - 0s 18us/step - loss: 0.0015\n",
      "Epoch 95/100\n",
      "1370/1370 [==============================] - 0s 18us/step - loss: 0.0015\n",
      "Epoch 96/100\n"
     ]
    },
    {
     "name": "stdout",
     "output_type": "stream",
     "text": [
      "1370/1370 [==============================] - 0s 15us/step - loss: 0.0015\n",
      "Epoch 97/100\n",
      "1370/1370 [==============================] - 0s 18us/step - loss: 0.0015\n",
      "Epoch 98/100\n",
      "1370/1370 [==============================] - 0s 18us/step - loss: 0.0015\n",
      "Epoch 99/100\n",
      "1370/1370 [==============================] - 0s 18us/step - loss: 0.0015\n",
      "Epoch 100/100\n",
      "1370/1370 [==============================] - 0s 20us/step - loss: 0.0015\n"
     ]
    }
   ],
   "source": [
    "\n",
    "# Initialising the RNN\n",
    "model = Sequential()\n",
    "\n",
    "# Adding the input layer and the LSTM layer\n",
    "# 4 memory units, tanh activation function and (None time interval with 1 attribute as input)\n",
    "model.add(LSTM(units = 4, activation = 'tanh', input_shape = (None, 1)))\n",
    "\n",
    "# Adding the output layer\n",
    "# 1 nueron in the output layer for 1 dimensional output\n",
    "model.add(Dense(units = 1))\n",
    "\n",
    "# Compiling the three layers together.\n",
    "# Loss helps in manipulation of weights in NN. \n",
    "model.compile(optimizer = 'rmsprop', loss = 'mean_squared_error')\n",
    "\n",
    "# Fitting the RNN to the Training set\n",
    "model.fit(X_train, y_train, batch_size = 128, epochs = 100)\n",
    "\n",
    "\n",
    "model = load_model('5DayModel.h5')\n"
   ]
  },
  {
   "cell_type": "code",
   "execution_count": 5,
   "metadata": {},
   "outputs": [
    {
     "data": {
      "image/png": "[encoded data removed]",
      "text/plain": [
       "<matplotlib.figure.Figure at 0x7fd660b71e90>"
      ]
     },
     "metadata": {},
     "output_type": "display_data"
    }
   ],
   "source": [
    "#Prediction and visualising results\n",
    "\n",
    "#Prediction for the training set\n",
    "real_stock_price_train = sc.inverse_transform(training_set[0:training_set.shape[0]-2*forecast])\n",
    "\n",
    "predicted_stock_price_train = model.predict(X_train)\n",
    "predicted_stock_price_train = sc.inverse_transform(predicted_stock_price_train)\n",
    "\n",
    "plt.plot(real_stock_price_train, color = 'red', label = 'Real ' + stock + 'Stock Price')\n",
    "plt.plot(predicted_stock_price_train, color = 'blue', label = 'Predicted ' + stock + 'Stock Price')\n",
    "plt.title(stock +' Stock Price Prediction')\n",
    "plt.xlabel('Time')\n",
    "plt.ylabel(stock + 'Stock Price')\n",
    "plt.legend()\n",
    "plt.show()\n"
   ]
  },
  {
   "cell_type": "code",
   "execution_count": 6,
   "metadata": {},
   "outputs": [
    {
     "name": "stdout",
     "output_type": "stream",
     "text": [
      "Training RMSE:  0.771530675786\n"
     ]
    }
   ],
   "source": [
    "train_rmse = math.sqrt(mean_squared_error(real_stock_price_train, predicted_stock_price_train))\n",
    "print 'Training RMSE: ', train_rmse\n"
   ]
  },
  {
   "cell_type": "code",
   "execution_count": 7,
   "metadata": {},
   "outputs": [
    {
     "data": {
      "image/png": "[encoded data removed]",
      "text/plain": [
       "<matplotlib.figure.Figure at 0x7fd660a83590>"
      ]
     },
     "metadata": {},
     "output_type": "display_data"
    }
   ],
   "source": [
    "# Prediction on test set\n",
    "test_set = web.DataReader(symbol, 'yahoo', datetime.today()+timedelta(days=-7), datetime.today())\n",
    "real_stock_price_test = test_set.iloc[:,1:4].values.mean(axis=1)\n",
    "real_stock_price_test = np.reshape(real_stock_price_test, (-1, 1))\n",
    "test_set = web.DataReader(symbol, 'yahoo', datetime.today()+timedelta(days=-12), datetime.today()+timedelta(days=-6))\n",
    "real_stock_price = test_set.iloc[:,1:4].values.mean(axis=1)\n",
    "real_stock_price = np.reshape(real_stock_price, (-1, 1))\n",
    "inputs = real_stock_price\n",
    "inputs = sc.transform(inputs)\n",
    "inputs = np.reshape(inputs, (real_stock_price.shape[0], 1, 1))\n",
    "predicted_stock_price_test = model.predict(inputs)\n",
    "predicted_stock_price_test = sc.inverse_transform(predicted_stock_price_test)\n",
    "\n",
    "# Visualising the results\n",
    "plt.plot(real_stock_price_test, color = 'red', label = 'Actual Price')\n",
    "plt.plot(predicted_stock_price_test, color = 'blue', label = 'Predicted Price')\n",
    "plt.title(stock +' Stock Price Prediction')\n",
    "plt.xlabel('Time')\n",
    "plt.ylabel(stock + ' Stock Price')\n",
    "plt.legend()\n",
    "plt.show()\n"
   ]
  },
  {
   "cell_type": "code",
   "execution_count": 8,
   "metadata": {},
   "outputs": [
    {
     "name": "stdout",
     "output_type": "stream",
     "text": [
      "Test RMSE:  1.64517030931\n"
     ]
    }
   ],
   "source": [
    "test_rmse = math.sqrt(mean_squared_error(real_stock_price_test, predicted_stock_price_test))\n",
    "print 'Test RMSE: ', test_rmse\n"
   ]
  },
  {
   "cell_type": "code",
   "execution_count": 9,
   "metadata": {
    "collapsed": true
   },
   "outputs": [],
   "source": [
    "model.save('5DayModel.h5')"
   ]
  }
 ],
 "metadata": {
  "kernelspec": {
   "display_name": "Python 2",
   "language": "python",
   "name": "python2"
  },
  "language_info": {
   "codemirror_mode": {
    "name": "ipython",
    "version": 2
   },
   "file_extension": ".py",
   "mimetype": "text/x-python",
   "name": "python",
   "nbconvert_exporter": "python",
   "pygments_lexer": "ipython2",
   "version": "2.7.12"
  }
 },
 "nbformat": 4,
 "nbformat_minor": 2
}
